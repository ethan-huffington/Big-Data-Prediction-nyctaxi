{
 "cells": [
  {
   "cell_type": "markdown",
   "id": "5074139a-0d4b-469b-a15a-ebbd25130da6",
   "metadata": {},
   "source": [
    "### Notebook Env Details\n",
    "`kernel`: PySpark\n",
    "`image`: SparkMagic\n",
    "`instance`: ml.t3.medium"
   ]
  },
  {
   "cell_type": "markdown",
   "id": "48bb89aa-6b63-4e46-a63e-1a6afdd86d40",
   "metadata": {},
   "source": [
    "<div style=\"background-color: darkgreen; font-size: 20px; color: white;\">\n",
    "EMR Cluster Creation & Connection"
   ]
  },
  {
   "cell_type": "markdown",
   "id": "b89711e1-7cc3-474b-9846-b6170e7082ff",
   "metadata": {},
   "source": [
    "This notebook requires the creation and connection to a EMR cluster. Auto-launching resources can be found in the resource below:\n",
    "- EMR Cloud Formation Templates:\n",
    "\n",
    "https://aws.amazon.com/blogs/machine-learning/part-1-create-and-manage-amazon-emr-clusters-from-sagemaker-studio-to-run-interactive-spark-and-ml-workloads/\n",
    "\n",
    "With a created domain and studio-user, to launch an EMR cluster go to the Home tab -> Data -> Clusters. From there you should be able to create a cluster from template. Finally, you will need to connect via the 'Cluster' tab in the top rigt of the note book. Click on the created cluster and connect.\n",
    "\n",
    "**Notebook Config**: Make sure to use a Studio SparkMagic - PySpark Kernel running on a ml.t3.medium instance and connected to an EMR clsuter with an m5.xlarge Master node and 2 m5.xlarge Core nodes. Please ensure that you see PySpark (SparkMagic) in the top right on your notebook."
   ]
  },
  {
   "cell_type": "markdown",
   "id": "bae70173-cf73-468f-9135-a076164ad43d",
   "metadata": {},
   "source": [
    "<div style=\"background-color: teal; font-size: 15px; color: white;\">\n",
    "Spark EMR Connection"
   ]
  },
  {
   "cell_type": "code",
   "execution_count": 2,
   "id": "90ef3f80-2342-42df-900f-b61deb417d60",
   "metadata": {
    "tags": []
   },
   "outputs": [
    {
     "name": "stderr",
     "output_type": "stream",
     "text": [
      "/opt/conda/lib/python3.7/site-packages/boto3/compat.py:82: PythonDeprecationWarning:\n",
      "\n",
      "Boto3 will no longer support Python 3.7 starting December 13, 2023. To continue receiving service updates, bug fixes, and security updates please upgrade to Python 3.8 or later. More information can be found here: https://aws.amazon.com/blogs/developer/python-support-policy-updates-for-aws-sdks-and-tools/\n",
      "\n"
     ]
    },
    {
     "name": "stdout",
     "output_type": "stream",
     "text": [
      "Successfully read emr cluster(j-21E5J7LS7UXYQ) details\n",
      "Initiating EMR connection..\n",
      "Starting Spark application\n"
     ]
    },
    {
     "data": {
      "text/html": [
       "<table>\n",
       "<tr><th>ID</th><th>YARN Application ID</th><th>Kind</th><th>State</th><th>Spark UI</th><th>Driver log</th><th>User</th><th>Current session?</th></tr><tr><td>0</td><td>application_1701977150790_0002</td><td>pyspark</td><td>idle</td><td><a target=\"_blank\" href=\"http://ip-10-0-20-139.ec2.internal:20888/proxy/application_1701977150790_0002/\">Link</a></td><td><a target=\"_blank\" href=\"http://ip-10-0-20-241.ec2.internal:8042/node/containerlogs/container_1701977150790_0002_01_000001/livy\">Link</a></td><td>None</td><td>✔</td></tr></table>"
      ],
      "text/plain": [
       "<IPython.core.display.HTML object>"
      ]
     },
     "metadata": {},
     "output_type": "display_data"
    },
    {
     "data": {
      "application/vnd.jupyter.widget-view+json": {
       "model_id": "",
       "version_major": 2,
       "version_minor": 0
      },
      "text/plain": [
       "FloatProgress(value=0.0, bar_style='info', description='Progress:', layout=Layout(height='25px', width='50%'),…"
      ]
     },
     "metadata": {},
     "output_type": "display_data"
    },
    {
     "name": "stdout",
     "output_type": "stream",
     "text": [
      "SparkSession available as 'spark'.\n",
      "{\"namespace\": \"sagemaker-analytics\", \"cluster_id\": \"j-21E5J7LS7UXYQ\", \"error_message\": null, \"success\": true, \"service\": \"emr\", \"operation\": \"connect\"}\n"
     ]
    }
   ],
   "source": [
    "%load_ext sagemaker_studio_analytics_extension.magics\n",
    "%sm_analytics emr connect --verify-certificate False --cluster-id j-21E5J7LS7UXYQ --auth-type None   "
   ]
  },
  {
   "cell_type": "markdown",
   "id": "e372f848-b82c-46df-a63e-942e828d88f4",
   "metadata": {},
   "source": [
    "<div style=\"background-color: darkgreen; font-size: 20px; color: white;\">\n",
    "List files in AWS Open Data S3 Bucket:"
   ]
  },
  {
   "cell_type": "markdown",
   "id": "07075f0e-0d64-4191-9243-7f7682a7c02f",
   "metadata": {},
   "source": [
    "- Data Dictionary: https://www.nyc.gov/assets/tlc/downloads/pdf/data_dictionary_trip_records_green.pdf"
   ]
  },
  {
   "cell_type": "code",
   "execution_count": 3,
   "id": "a66ac6f7-4b26-48d4-a646-4c1c85073c10",
   "metadata": {
    "tags": []
   },
   "outputs": [
    {
     "name": "stdout",
     "output_type": "stream",
     "text": [
      "2022-05-12 15:46:25    6.9 MiB green_tripdata_2020-01.parquet\n",
      "2022-05-12 15:46:26    6.3 MiB green_tripdata_2020-02.parquet\n",
      "2022-05-12 15:46:27    3.8 MiB green_tripdata_2020-03.parquet\n",
      "2022-05-12 15:46:27  696.8 KiB green_tripdata_2020-04.parquet\n",
      "2022-05-12 15:46:28    1.0 MiB green_tripdata_2020-05.parquet\n",
      "2022-05-12 15:47:29    1.1 MiB green_tripdata_2020-06.parquet\n",
      "2022-05-12 15:47:29    1.2 MiB green_tripdata_2020-07.parquet\n",
      "2022-05-12 15:47:30    1.4 MiB green_tripdata_2020-08.parquet\n",
      "2022-05-12 15:47:31    1.5 MiB green_tripdata_2020-09.parquet\n",
      "2022-05-12 15:47:31    1.7 MiB green_tripdata_2020-10.parquet\n",
      "2022-05-12 15:47:32    1.5 MiB green_tripdata_2020-11.parquet\n",
      "2022-05-12 15:47:33    1.4 MiB green_tripdata_2020-12.parquet\n"
     ]
    }
   ],
   "source": [
    "%%local\n",
    "!aws s3 ls \"s3://nyc-tlc/trip data/green\" --human-readable | grep green_tripdata_2020"
   ]
  },
  {
   "cell_type": "markdown",
   "id": "5770f605-21c5-4508-8150-d551e6f032f4",
   "metadata": {
    "tags": []
   },
   "source": [
    "### Load files into a Dataframe on the Spark cluster"
   ]
  },
  {
   "cell_type": "code",
   "execution_count": 4,
   "id": "d646ade6-424a-4d58-bde6-021b9452d6d2",
   "metadata": {
    "tags": []
   },
   "outputs": [
    {
     "data": {
      "application/vnd.jupyter.widget-view+json": {
       "model_id": "",
       "version_major": 2,
       "version_minor": 0
      },
      "text/plain": [
       "FloatProgress(value=0.0, bar_style='info', description='Progress:', layout=Layout(height='25px', width='50%'),…"
      ]
     },
     "metadata": {},
     "output_type": "display_data"
    }
   ],
   "source": [
    "df = spark.read.parquet(\"s3://nyc-tlc/trip data/green_tripdata_2020*.parquet\").cache()"
   ]
  },
  {
   "cell_type": "markdown",
   "id": "62ae37da-0224-4e32-bc40-25130ddba155",
   "metadata": {},
   "source": [
    "<div style=\"background-color: darkgreen; font-size: 20px; color: white;\">\n",
    "EDA"
   ]
  },
  {
   "cell_type": "code",
   "execution_count": 7,
   "id": "9a6647ca-fea4-433f-a3b4-64cbdfa3484a",
   "metadata": {
    "tags": []
   },
   "outputs": [
    {
     "data": {
      "application/vnd.jupyter.widget-view+json": {
       "model_id": "",
       "version_major": 2,
       "version_minor": 0
      },
      "text/plain": [
       "FloatProgress(value=0.0, bar_style='info', description='Progress:', layout=Layout(height='25px', width='50%'),…"
      ]
     },
     "metadata": {},
     "output_type": "display_data"
    },
    {
     "name": "stdout",
     "output_type": "stream",
     "text": [
      "Rows:  1734176\n",
      "root\n",
      " |-- VendorID: long (nullable = true)\n",
      " |-- lpep_pickup_datetime: timestamp (nullable = true)\n",
      " |-- lpep_dropoff_datetime: timestamp (nullable = true)\n",
      " |-- store_and_fwd_flag: string (nullable = true)\n",
      " |-- RatecodeID: double (nullable = true)\n",
      " |-- PULocationID: long (nullable = true)\n",
      " |-- DOLocationID: long (nullable = true)\n",
      " |-- passenger_count: double (nullable = true)\n",
      " |-- trip_distance: double (nullable = true)\n",
      " |-- fare_amount: double (nullable = true)\n",
      " |-- extra: double (nullable = true)\n",
      " |-- mta_tax: double (nullable = true)\n",
      " |-- tip_amount: double (nullable = true)\n",
      " |-- tolls_amount: double (nullable = true)\n",
      " |-- ehail_fee: integer (nullable = true)\n",
      " |-- improvement_surcharge: double (nullable = true)\n",
      " |-- total_amount: double (nullable = true)\n",
      " |-- payment_type: double (nullable = true)\n",
      " |-- trip_type: double (nullable = true)\n",
      " |-- congestion_surcharge: double (nullable = true)"
     ]
    }
   ],
   "source": [
    "print(\"Rows: \",df.count())\n",
    "df.printSchema()"
   ]
  },
  {
   "cell_type": "markdown",
   "id": "a80ed514-c48d-4afc-bde0-bff941eb25d7",
   "metadata": {
    "tags": []
   },
   "source": [
    "<div style=\"background-color: teal; font-size: 15px; color: white;\">\n",
    "Sampling Dataset For Visualization"
   ]
  },
  {
   "cell_type": "code",
   "execution_count": 10,
   "id": "ea70f31f-0a59-44ff-acdc-6f85d1b6ffd1",
   "metadata": {
    "tags": []
   },
   "outputs": [
    {
     "data": {
      "application/vnd.jupyter.widget-view+json": {
       "model_id": "",
       "version_major": 2,
       "version_minor": 0
      },
      "text/plain": [
       "FloatProgress(value=0.0, bar_style='info', description='Progress:', layout=Layout(height='25px', width='50%'),…"
      ]
     },
     "metadata": {},
     "output_type": "display_data"
    },
    {
     "name": "stdout",
     "output_type": "stream",
     "text": [
      "Original Rows: 1,734,176\n",
      "Sampled 0.15% rows: 259,566"
     ]
    }
   ],
   "source": [
    "print(f\"Original Rows: {df.count():,}\")\n",
    "percent = 15/100\n",
    "df_sample = df.sample(False, percent, seed=3)\n",
    "print(f\"Sampled {percent:.2f}% rows: {df_sample.count():,}\")"
   ]
  },
  {
   "cell_type": "markdown",
   "id": "e410fef0-b39e-4de0-8a8a-4d422cb7426c",
   "metadata": {},
   "source": [
    "<div style=\"background-color: teal; font-size: 15px; color: white;\">\n",
    "Pull Down Data Sample to Local as a Pandas Data Frame"
   ]
  },
  {
   "cell_type": "code",
   "execution_count": 27,
   "id": "7b321f90-0d80-40f3-ad63-06e6fe5a0cc2",
   "metadata": {
    "tags": []
   },
   "outputs": [
    {
     "data": {
      "application/vnd.jupyter.widget-view+json": {
       "model_id": "",
       "version_major": 2,
       "version_minor": 0
      },
      "text/plain": [
       "FloatProgress(value=0.0, bar_style='info', description='Progress:', layout=Layout(height='25px', width='50%'),…"
      ]
     },
     "metadata": {},
     "output_type": "display_data"
    },
    {
     "data": {
      "application/vnd.jupyter.widget-view+json": {
       "model_id": "",
       "version_major": 2,
       "version_minor": 0
      },
      "text/plain": [
       "FloatProgress(value=0.0, bar_style='info', description='Progress:', layout=Layout(height='25px', width='50%'),…"
      ]
     },
     "metadata": {},
     "output_type": "display_data"
    }
   ],
   "source": [
    "%%spark -o df_sample"
   ]
  },
  {
   "cell_type": "code",
   "execution_count": null,
   "id": "9e6208e8-e243-45e3-9c87-8edf64c3805c",
   "metadata": {},
   "outputs": [],
   "source": []
  },
  {
   "cell_type": "code",
   "execution_count": 39,
   "id": "42982b58-0a88-4a10-9f7e-f4e3c409e3a5",
   "metadata": {
    "tags": []
   },
   "outputs": [],
   "source": [
    "%%local\n",
    "import matplotlib.pyplot as plt"
   ]
  },
  {
   "cell_type": "code",
   "execution_count": 40,
   "id": "12858566-25b0-43a9-a16c-d846e23ee889",
   "metadata": {
    "tags": []
   },
   "outputs": [
    {
     "data": {
      "image/png": "[encoded data removed]",
      "text/plain": [
       "<Figure size 640x480 with 1 Axes>"
      ]
     },
     "metadata": {},
     "output_type": "display_data"
    }
   ],
   "source": [
    "%matplotlib inline\n",
    "df_sample['fare_amount'].plot(kind='hist', bins=10)\n",
    "plt.title('Fare Amount')\n",
    "plt.xlabel('Values')\n",
    "plt.ylabel('Frequency')\n",
    "plt.show()"
   ]
  },
  {
   "cell_type": "code",
   "execution_count": 41,
   "id": "4eb99711-a916-4ac4-a67c-af34da7983bb",
   "metadata": {
    "tags": []
   },
   "outputs": [
    {
     "data": {
      "image/png": "[encoded data removed]",
      "text/plain": [
       "<Figure size 640x480 with 1 Axes>"
      ]
     },
     "metadata": {},
     "output_type": "display_data"
    }
   ],
   "source": [
    "%matplotlib inline\n",
    "df_sample['trip_distance'].plot(kind='hist', bins=10)\n",
    "plt.title('Trip Distance')\n",
    "plt.xlabel('Values')\n",
    "plt.ylabel('Frequency')\n",
    "plt.show()"
   ]
  },
  {
   "cell_type": "markdown",
   "id": "166a13de-7f52-4e78-9af8-97b1312ea1fc",
   "metadata": {
    "tags": []
   },
   "source": [
    "<div style=\"background-color: teal; font-size: 15px; color: white;\">\n",
    "Missing Values"
   ]
  },
  {
   "cell_type": "code",
   "execution_count": 46,
   "id": "5266096f-da01-4e8a-ab5c-bb7cea9986a0",
   "metadata": {
    "tags": []
   },
   "outputs": [
    {
     "data": {
      "application/vnd.jupyter.widget-view+json": {
       "model_id": "",
       "version_major": 2,
       "version_minor": 0
      },
      "text/plain": [
       "FloatProgress(value=0.0, bar_style='info', description='Progress:', layout=Layout(height='25px', width='50%'),…"
      ]
     },
     "metadata": {},
     "output_type": "display_data"
    },
    {
     "name": "stdout",
     "output_type": "stream",
     "text": [
      "-RECORD 0------------------------\n",
      " VendorID              | 0       \n",
      " lpep_pickup_datetime  | 0       \n",
      " lpep_dropoff_datetime | 0       \n",
      " store_and_fwd_flag    | 528216  \n",
      " RatecodeID            | 528216  \n",
      " PULocationID          | 0       \n",
      " DOLocationID          | 0       \n",
      " passenger_count       | 528216  \n",
      " trip_distance         | 0       \n",
      " fare_amount           | 0       \n",
      " extra                 | 0       \n",
      " mta_tax               | 0       \n",
      " tip_amount            | 0       \n",
      " tolls_amount          | 0       \n",
      " ehail_fee             | 1734176 \n",
      " improvement_surcharge | 0       \n",
      " total_amount          | 0       \n",
      " payment_type          | 528216  \n",
      " trip_type             | 528221  \n",
      " congestion_surcharge  | 528216"
     ]
    }
   ],
   "source": [
    "from pyspark.sql.functions import col, count, when\n",
    "\n",
    "# Count the number of nulls in each column\n",
    "df_missing_count = df.select([count(when(col(c).isNull(), c)).alias(c) for c in df.columns])\n",
    "df_missing_count.show(vertical = True)"
   ]
  },
  {
   "cell_type": "markdown",
   "id": "5e2a31a0-bd5f-4f7a-aa4b-7edbd428eba1",
   "metadata": {},
   "source": [
    "We are going to be removing a number of columns from this dataset. Most of them will be irrelevant to the fare amount while keeping others would create data-leakage issues within the dataset.\n",
    "\n",
    "The features of interest for our initial model will be:\n",
    "- `lpep_pickup_datetime`: The date and time of face pickup\n",
    "- `PULocationID`: Pick up location\n",
    "- `DOLocationID`: Drop off location\n",
    "- `Trip_distance`: Trip Distance \n",
    "- `Fare_amount`: Fare Amount (USD) "
   ]
  },
  {
   "cell_type": "markdown",
   "id": "585e4a64-13df-4b81-824e-cc3d09fbcfe5",
   "metadata": {},
   "source": [
    "<div style=\"background-color: darkgreen; font-size: 20px; color: white;\">\n",
    "Dataset Pre-Processing"
   ]
  },
  {
   "cell_type": "markdown",
   "id": "4ebe1cb1-24fb-4cea-983a-fa5ec270b6dc",
   "metadata": {
    "tags": []
   },
   "source": [
    "<div style=\"background-color: teal; font-size: 15px; color: white;\">\n",
    "Filter and Format Columns"
   ]
  },
  {
   "cell_type": "markdown",
   "id": "9cb18b89-efe7-4cd2-ac6b-a3d32ed7621e",
   "metadata": {},
   "source": [
    "** Note ** The SageMaker XGBoost algorithm we will be working with will be expecting the target col ('fare_amount') to be the first column. So it will be rearranged in the .select() method"
   ]
  },
  {
   "cell_type": "code",
   "execution_count": 5,
   "id": "0d45db71-a690-4a63-8181-7be61f4334f9",
   "metadata": {
    "tags": []
   },
   "outputs": [
    {
     "data": {
      "application/vnd.jupyter.widget-view+json": {
       "model_id": "",
       "version_major": 2,
       "version_minor": 0
      },
      "text/plain": [
       "FloatProgress(value=0.0, bar_style='info', description='Progress:', layout=Layout(height='25px', width='50%'),…"
      ]
     },
     "metadata": {},
     "output_type": "display_data"
    },
    {
     "data": {
      "text/html": [
       "<table><tr><th><pre style=\"word-break: unset; background-color: unset;\">fare_amount</pre></th><th><pre style=\"word-break: unset; background-color: unset;\">day_of_week</pre></th><th><pre style=\"word-break: unset; background-color: unset;\">month</pre></th><th><pre style=\"word-break: unset; background-color: unset;\">hour</pre></th><th><pre style=\"word-break: unset; background-color: unset;\">pickup_location_id</pre></th><th><pre style=\"word-break: unset; background-color: unset;\">dropoff_location_id</pre></th><th><pre style=\"word-break: unset; background-color: unset;\">trip_distance</pre></th></tr><tr><td><pre style=\"word-break: unset; background-color: unset;\">8.0</pre></td><td><pre style=\"word-break: unset; background-color: unset;\">4</pre></td><td><pre style=\"word-break: unset; background-color: unset;\">4</pre></td><td><pre style=\"word-break: unset; background-color: unset;\">0</pre></td><td><pre style=\"word-break: unset; background-color: unset;\">42</pre></td><td><pre style=\"word-break: unset; background-color: unset;\">41</pre></td><td><pre style=\"word-break: unset; background-color: unset;\">1.68</pre></td></tr><tr><td><pre style=\"word-break: unset; background-color: unset;\">9.0</pre></td><td><pre style=\"word-break: unset; background-color: unset;\">4</pre></td><td><pre style=\"word-break: unset; background-color: unset;\">4</pre></td><td><pre style=\"word-break: unset; background-color: unset;\">0</pre></td><td><pre style=\"word-break: unset; background-color: unset;\">244</pre></td><td><pre style=\"word-break: unset; background-color: unset;\">247</pre></td><td><pre style=\"word-break: unset; background-color: unset;\">1.94</pre></td></tr><tr><td><pre style=\"word-break: unset; background-color: unset;\">6.5</pre></td><td><pre style=\"word-break: unset; background-color: unset;\">4</pre></td><td><pre style=\"word-break: unset; background-color: unset;\">4</pre></td><td><pre style=\"word-break: unset; background-color: unset;\">0</pre></td><td><pre style=\"word-break: unset; background-color: unset;\">244</pre></td><td><pre style=\"word-break: unset; background-color: unset;\">243</pre></td><td><pre style=\"word-break: unset; background-color: unset;\">1.0</pre></td></tr><tr><td><pre style=\"word-break: unset; background-color: unset;\">12.0</pre></td><td><pre style=\"word-break: unset; background-color: unset;\">4</pre></td><td><pre style=\"word-break: unset; background-color: unset;\">4</pre></td><td><pre style=\"word-break: unset; background-color: unset;\">0</pre></td><td><pre style=\"word-break: unset; background-color: unset;\">244</pre></td><td><pre style=\"word-break: unset; background-color: unset;\">243</pre></td><td><pre style=\"word-break: unset; background-color: unset;\">2.81</pre></td></tr><tr><td><pre style=\"word-break: unset; background-color: unset;\">21.0</pre></td><td><pre style=\"word-break: unset; background-color: unset;\">4</pre></td><td><pre style=\"word-break: unset; background-color: unset;\">4</pre></td><td><pre style=\"word-break: unset; background-color: unset;\">0</pre></td><td><pre style=\"word-break: unset; background-color: unset;\">75</pre></td><td><pre style=\"word-break: unset; background-color: unset;\">169</pre></td><td><pre style=\"word-break: unset; background-color: unset;\">6.79</pre></td></tr></table><br /><pre>only showing top 5 rows</pre>"
      ],
      "text/plain": [
       "<IPython.core.display.HTML object>"
      ]
     },
     "metadata": {},
     "output_type": "display_data"
    }
   ],
   "source": [
    "%%pretty\n",
    "from pyspark.sql.functions import col, dayofweek, month, hour\n",
    "df_dt = df.select( col(\"Fare_amount\").alias(\"fare_amount\"),\n",
    "                   dayofweek(col('lpep_pickup_datetime')).alias('day_of_week'),\n",
    "                   month(col('lpep_pickup_datetime')).alias('month'),\n",
    "                   hour(col('lpep_pickup_datetime')).alias('hour'),\n",
    "                   col(\"PULocationID\").alias(\"pickup_location_id\"),\n",
    "                   col(\"DOLocationID\").alias(\"dropoff_location_id\"),\n",
    "                   col(\"Trip_distance\").alias(\"trip_distance\")\n",
    "                  )\n",
    "df_dt.show(5)"
   ]
  },
  {
   "cell_type": "code",
   "execution_count": 18,
   "id": "72ad2d78-08e6-4173-934e-4dc739046d5f",
   "metadata": {
    "tags": []
   },
   "outputs": [
    {
     "data": {
      "application/vnd.jupyter.widget-view+json": {
       "model_id": "",
       "version_major": 2,
       "version_minor": 0
      },
      "text/plain": [
       "FloatProgress(value=0.0, bar_style='info', description='Progress:', layout=Layout(height='25px', width='50%'),…"
      ]
     },
     "metadata": {},
     "output_type": "display_data"
    },
    {
     "name": "stdout",
     "output_type": "stream",
     "text": [
      "+-------+-----------------+\n",
      "|summary|    trip_distance|\n",
      "+-------+-----------------+\n",
      "|  count|          1734176|\n",
      "|   mean|17.29138790411125|\n",
      "| stddev|1198.121527606316|\n",
      "|    min|           -33.69|\n",
      "|    max|        205654.12|\n",
      "+-------+-----------------+"
     ]
    }
   ],
   "source": [
    "fare_col_stats = df_dt.describe('trip_distance')\n",
    "fare_col_stats.show()"
   ]
  },
  {
   "cell_type": "code",
   "execution_count": 19,
   "id": "a97ba8d0-3d7c-42e8-b275-48f7c6f1d535",
   "metadata": {
    "tags": []
   },
   "outputs": [
    {
     "data": {
      "application/vnd.jupyter.widget-view+json": {
       "model_id": "",
       "version_major": 2,
       "version_minor": 0
      },
      "text/plain": [
       "FloatProgress(value=0.0, bar_style='info', description='Progress:', layout=Layout(height='25px', width='50%'),…"
      ]
     },
     "metadata": {},
     "output_type": "display_data"
    },
    {
     "name": "stdout",
     "output_type": "stream",
     "text": [
      "+-------+------------------+\n",
      "|summary|       fare_amount|\n",
      "+-------+------------------+\n",
      "|  count|           1734176|\n",
      "|   mean|16.984943217994132|\n",
      "| stddev| 13.80534758423543|\n",
      "|    min|            -210.0|\n",
      "|    max|             803.0|\n",
      "+-------+------------------+"
     ]
    }
   ],
   "source": [
    "distance_col_stats = df_dt.describe('fare_amount')\n",
    "distance_col_stats.show()"
   ]
  },
  {
   "cell_type": "code",
   "execution_count": 29,
   "id": "d875c6d1-7a25-4c7b-b244-14ec3e966363",
   "metadata": {
    "tags": []
   },
   "outputs": [
    {
     "data": {
      "application/vnd.jupyter.widget-view+json": {
       "model_id": "",
       "version_major": 2,
       "version_minor": 0
      },
      "text/plain": [
       "FloatProgress(value=0.0, bar_style='info', description='Progress:', layout=Layout(height='25px', width='50%'),…"
      ]
     },
     "metadata": {},
     "output_type": "display_data"
    },
    {
     "name": "stdout",
     "output_type": "stream",
     "text": [
      "Travel Distance:  0\n",
      "Fare Amount:  0"
     ]
    }
   ],
   "source": [
    "neg_distance_count = df_dt[(df_dt.trip_distance < 0)]\n",
    "neg_fare_count = df_dt[(df_dt.fare_amount < 0)]\n",
    "\n",
    "print('Travel Distance: ', neg_distance_count.count())\n",
    "print('Fare Amount: ',neg_fare_count.count())"
   ]
  },
  {
   "cell_type": "markdown",
   "id": "4c61a23f-43be-4489-a5aa-98c9f3f2a137",
   "metadata": {},
   "source": [
    "<div style=\"background-color: teal; font-size: 15px; color: white;\">\n",
    "Filter Out Negative Trip Distances and Fare Amounts"
   ]
  },
  {
   "cell_type": "code",
   "execution_count": 6,
   "id": "9b730a7c-a670-4195-82be-d40914c53976",
   "metadata": {
    "tags": []
   },
   "outputs": [
    {
     "data": {
      "application/vnd.jupyter.widget-view+json": {
       "model_id": "",
       "version_major": 2,
       "version_minor": 0
      },
      "text/plain": [
       "FloatProgress(value=0.0, bar_style='info', description='Progress:', layout=Layout(height='25px', width='50%'),…"
      ]
     },
     "metadata": {},
     "output_type": "display_data"
    },
    {
     "name": "stdout",
     "output_type": "stream",
     "text": [
      "1662321"
     ]
    }
   ],
   "source": [
    "df_dt = df_dt[\n",
    "    (df_dt.fare_amount > 0)\n",
    "    & (df_dt.fare_amount < 200)    \n",
    "]\n",
    "\n",
    "df_dt = df_dt[(df_dt.trip_distance > 0)]\n",
    "\n",
    "df_dt.count()"
   ]
  },
  {
   "cell_type": "markdown",
   "id": "3493664c-d95e-4331-a09f-927c8d798d40",
   "metadata": {
    "tags": []
   },
   "source": [
    "<div style=\"background-color: teal; font-size: 15px; color: white;\">\n",
    "Create Train, Test and Validation Sets"
   ]
  },
  {
   "cell_type": "code",
   "execution_count": 7,
   "id": "8f1656e9-071a-4288-9977-f9c2c2641312",
   "metadata": {
    "tags": []
   },
   "outputs": [
    {
     "data": {
      "application/vnd.jupyter.widget-view+json": {
       "model_id": "",
       "version_major": 2,
       "version_minor": 0
      },
      "text/plain": [
       "FloatProgress(value=0.0, bar_style='info', description='Progress:', layout=Layout(height='25px', width='50%'),…"
      ]
     },
     "metadata": {},
     "output_type": "display_data"
    },
    {
     "name": "stdout",
     "output_type": "stream",
     "text": [
      "Train Count: 1329680\n",
      "Validation Count: 16720\n",
      "Test Count: 315921"
     ]
    }
   ],
   "source": [
    "train_df, val_df = df_dt.randomSplit([0.8, 0.2], seed=42)\n",
    "val_df, test_df = val_df.randomSplit([0.05, 0.95], seed=42)\n",
    "\n",
    "print(\"Train Count:\", train_df.count())\n",
    "print(\"Validation Count:\", val_df.count())\n",
    "print(\"Test Count:\", test_df.count())"
   ]
  },
  {
   "cell_type": "markdown",
   "id": "3dc07262-452a-4800-aba5-139521d09157",
   "metadata": {},
   "source": [
    "<div style=\"background-color: teal; font-size: 15px; color: white;\">\n",
    "Create S3 Bucket and Path"
   ]
  },
  {
   "cell_type": "code",
   "execution_count": 8,
   "id": "ffd58b49-ac31-48b2-a0cd-f01695c0203f",
   "metadata": {
    "tags": []
   },
   "outputs": [
    {
     "name": "stdout",
     "output_type": "stream",
     "text": [
      "sagemaker-us-east-1-717145514721/nyc-taxi/data/processed\n"
     ]
    }
   ],
   "source": [
    "%%local \n",
    "import sagemaker\n",
    "\n",
    "sess = sagemaker.Session()\n",
    "role = sagemaker.get_execution_role()\n",
    "bucket = sess.default_bucket()\n",
    "\n",
    "data_bucket = f\"{bucket}/nyc-taxi/data/processed\"\n",
    "print(data_bucket)"
   ]
  },
  {
   "cell_type": "markdown",
   "id": "aabf4c40-5ea9-4f7c-a925-795dac26076a",
   "metadata": {},
   "source": [
    "<div style=\"background-color: teal; font-size: 15px; color: white;\">\n",
    "Send local variable spark context"
   ]
  },
  {
   "cell_type": "code",
   "execution_count": 9,
   "id": "2fc9f247-e0c2-48fc-a995-beaeefc36a81",
   "metadata": {
    "tags": []
   },
   "outputs": [
    {
     "data": {
      "application/vnd.jupyter.widget-view+json": {
       "model_id": "",
       "version_major": 2,
       "version_minor": 0
      },
      "text/plain": [
       "FloatProgress(value=0.0, bar_style='info', description='Progress:', layout=Layout(height='25px', width='50%'),…"
      ]
     },
     "metadata": {},
     "output_type": "display_data"
    },
    {
     "name": "stdout",
     "output_type": "stream",
     "text": [
      "Successfully passed 'data_bucket' as 'data_bucket' to Spark kernel"
     ]
    }
   ],
   "source": [
    "%%send_to_spark -i data_bucket -t str -n data_bucket"
   ]
  },
  {
   "cell_type": "markdown",
   "id": "ee4c9f4b-0241-4788-a65f-345958fa378e",
   "metadata": {},
   "source": [
    "<div style=\"background-color: teal; font-size: 15px; color: white;\">\n",
    "Write datasets to S3 as .csv"
   ]
  },
  {
   "cell_type": "code",
   "execution_count": 10,
   "id": "aea2dc56-c3e0-4009-9e9e-24b9772cce52",
   "metadata": {
    "tags": []
   },
   "outputs": [
    {
     "data": {
      "application/vnd.jupyter.widget-view+json": {
       "model_id": "",
       "version_major": 2,
       "version_minor": 0
      },
      "text/plain": [
       "FloatProgress(value=0.0, bar_style='info', description='Progress:', layout=Layout(height='25px', width='50%'),…"
      ]
     },
     "metadata": {},
     "output_type": "display_data"
    }
   ],
   "source": [
    "train_df.write.csv(f\"s3://{data_bucket}/train\", mode='overwrite')\n",
    "test_df.write.csv(f\"s3://{data_bucket}/test\", mode='overwrite')\n",
    "val_df.write.csv(f\"s3://{data_bucket}/validation\", mode='overwrite')"
   ]
  },
  {
   "cell_type": "markdown",
   "id": "05f120d6-3985-46e9-8ce1-228dbc2a403f",
   "metadata": {},
   "source": [
    "<div style=\"background-color: teal; font-size: 15px; color: white;\">\n",
    "Store data_bucket as a local varible to use in the next notebook"
   ]
  },
  {
   "cell_type": "code",
   "execution_count": 34,
   "id": "399c1382-26e1-4ccd-be93-85d941217236",
   "metadata": {
    "tags": []
   },
   "outputs": [
    {
     "name": "stdout",
     "output_type": "stream",
     "text": [
      "Stored 'data_bucket' (str)\n"
     ]
    }
   ],
   "source": [
    "%store data_bucket"
   ]
  },
  {
   "cell_type": "markdown",
   "id": "0ad69d9f-2724-441e-8e2d-c7748e5d3863",
   "metadata": {},
   "source": [
    "<div style=\"background-color: teal; font-size: 15px; color: white;\">\n",
    "Disconnect from spark cluster"
   ]
  },
  {
   "cell_type": "code",
   "execution_count": 11,
   "id": "b2263686-628e-465b-93f3-40fed6a0bdfd",
   "metadata": {
    "tags": []
   },
   "outputs": [],
   "source": [
    "%%cleanup -f"
   ]
  },
  {
   "cell_type": "markdown",
   "id": "634b1e7f-832e-4468-8d10-07ec3af61400",
   "metadata": {},
   "source": [
    " *** You can now also terminate the spark cluster: Home tab -> Data -> Clusters -> 'Terminate Cluster'"
   ]
  },
  {
   "cell_type": "code",
   "execution_count": null,
   "id": "418afe58-b1ef-4740-8dfb-bf7a50366fc0",
   "metadata": {},
   "outputs": [],
   "source": []
  }
 ],
 "metadata": {
  "availableInstances": [
   {
    "_defaultOrder": 0,
    "_isFastLaunch": true,
    "category": "General purpose",
    "gpuNum": 0,
    "hideHardwareSpecs": false,
    "memoryGiB": 4,
    "name": "ml.t3.medium",
    "vcpuNum": 2
   },
   {
    "_defaultOrder": 1,
    "_isFastLaunch": false,
    "category": "General purpose",
    "gpuNum": 0,
    "hideHardwareSpecs": false,
    "memoryGiB": 8,
    "name": "ml.t3.large",
    "vcpuNum": 2
   },
   {
    "_defaultOrder": 2,
    "_isFastLaunch": false,
    "category": "General purpose",
    "gpuNum": 0,
    "hideHardwareSpecs": false,
    "memoryGiB": 16,
    "name": "ml.t3.xlarge",
    "vcpuNum": 4
   },
   {
    "_defaultOrder": 3,
    "_isFastLaunch": false,
    "category": "General purpose",
    "gpuNum": 0,
    "hideHardwareSpecs": false,
    "memoryGiB": 32,
    "name": "ml.t3.2xlarge",
    "vcpuNum": 8
   },
   {
    "_defaultOrder": 4,
    "_isFastLaunch": true,
    "category": "General purpose",
    "gpuNum": 0,
    "hideHardwareSpecs": false,
    "memoryGiB": 8,
    "name": "ml.m5.large",
    "vcpuNum": 2
   },
   {
    "_defaultOrder": 5,
    "_isFastLaunch": false,
    "category": "General purpose",
    "gpuNum": 0,
    "hideHardwareSpecs": false,
    "memoryGiB": 16,
    "name": "ml.m5.xlarge",
    "vcpuNum": 4
   },
   {
    "_defaultOrder": 6,
    "_isFastLaunch": false,
    "category": "General purpose",
    "gpuNum": 0,
    "hideHardwareSpecs": false,
    "memoryGiB": 32,
    "name": "ml.m5.2xlarge",
    "vcpuNum": 8
   },
   {
    "_defaultOrder": 7,
    "_isFastLaunch": false,
    "category": "General purpose",
    "gpuNum": 0,
    "hideHardwareSpecs": false,
    "memoryGiB": 64,
    "name": "ml.m5.4xlarge",
    "vcpuNum": 16
   },
   {
    "_defaultOrder": 8,
    "_isFastLaunch": false,
    "category": "General purpose",
    "gpuNum": 0,
    "hideHardwareSpecs": false,
    "memoryGiB": 128,
    "name": "ml.m5.8xlarge",
    "vcpuNum": 32
   },
   {
    "_defaultOrder": 9,
    "_isFastLaunch": false,
    "category": "General purpose",
    "gpuNum": 0,
    "hideHardwareSpecs": false,
    "memoryGiB": 192,
    "name": "ml.m5.12xlarge",
    "vcpuNum": 48
   },
   {
    "_defaultOrder": 10,
    "_isFastLaunch": false,
    "category": "General purpose",
    "gpuNum": 0,
    "hideHardwareSpecs": false,
    "memoryGiB": 256,
    "name": "ml.m5.16xlarge",
    "vcpuNum": 64
   },
   {
    "_defaultOrder": 11,
    "_isFastLaunch": false,
    "category": "General purpose",
    "gpuNum": 0,
    "hideHardwareSpecs": false,
    "memoryGiB": 384,
    "name": "ml.m5.24xlarge",
    "vcpuNum": 96
   },
   {
    "_defaultOrder": 12,
    "_isFastLaunch": false,
    "category": "General purpose",
    "gpuNum": 0,
    "hideHardwareSpecs": false,
    "memoryGiB": 8,
    "name": "ml.m5d.large",
    "vcpuNum": 2
   },
   {
    "_defaultOrder": 13,
    "_isFastLaunch": false,
    "category": "General purpose",
    "gpuNum": 0,
    "hideHardwareSpecs": false,
    "memoryGiB": 16,
    "name": "ml.m5d.xlarge",
    "vcpuNum": 4
   },
   {
    "_defaultOrder": 14,
    "_isFastLaunch": false,
    "category": "General purpose",
    "gpuNum": 0,
    "hideHardwareSpecs": false,
    "memoryGiB": 32,
    "name": "ml.m5d.2xlarge",
    "vcpuNum": 8
   },
   {
    "_defaultOrder": 15,
    "_isFastLaunch": false,
    "category": "General purpose",
    "gpuNum": 0,
    "hideHardwareSpecs": false,
    "memoryGiB": 64,
    "name": "ml.m5d.4xlarge",
    "vcpuNum": 16
   },
   {
    "_defaultOrder": 16,
    "_isFastLaunch": false,
    "category": "General purpose",
    "gpuNum": 0,
    "hideHardwareSpecs": false,
    "memoryGiB": 128,
    "name": "ml.m5d.8xlarge",
    "vcpuNum": 32
   },
   {
    "_defaultOrder": 17,
    "_isFastLaunch": false,
    "category": "General purpose",
    "gpuNum": 0,
    "hideHardwareSpecs": false,
    "memoryGiB": 192,
    "name": "ml.m5d.12xlarge",
    "vcpuNum": 48
   },
   {
    "_defaultOrder": 18,
    "_isFastLaunch": false,
    "category": "General purpose",
    "gpuNum": 0,
    "hideHardwareSpecs": false,
    "memoryGiB": 256,
    "name": "ml.m5d.16xlarge",
    "vcpuNum": 64
   },
   {
    "_defaultOrder": 19,
    "_isFastLaunch": false,
    "category": "General purpose",
    "gpuNum": 0,
    "hideHardwareSpecs": false,
    "memoryGiB": 384,
    "name": "ml.m5d.24xlarge",
    "vcpuNum": 96
   },
   {
    "_defaultOrder": 20,
    "_isFastLaunch": false,
    "category": "General purpose",
    "gpuNum": 0,
    "hideHardwareSpecs": true,
    "memoryGiB": 0,
    "name": "ml.geospatial.interactive",
    "supportedImageNames": [
     "sagemaker-geospatial-v1-0"
    ],
    "vcpuNum": 0
   },
   {
    "_defaultOrder": 21,
    "_isFastLaunch": true,
    "category": "Compute optimized",
    "gpuNum": 0,
    "hideHardwareSpecs": false,
    "memoryGiB": 4,
    "name": "ml.c5.large",
    "vcpuNum": 2
   },
   {
    "_defaultOrder": 22,
    "_isFastLaunch": false,
    "category": "Compute optimized",
    "gpuNum": 0,
    "hideHardwareSpecs": false,
    "memoryGiB": 8,
    "name": "ml.c5.xlarge",
    "vcpuNum": 4
   },
   {
    "_defaultOrder": 23,
    "_isFastLaunch": false,
    "category": "Compute optimized",
    "gpuNum": 0,
    "hideHardwareSpecs": false,
    "memoryGiB": 16,
    "name": "ml.c5.2xlarge",
    "vcpuNum": 8
   },
   {
    "_defaultOrder": 24,
    "_isFastLaunch": false,
    "category": "Compute optimized",
    "gpuNum": 0,
    "hideHardwareSpecs": false,
    "memoryGiB": 32,
    "name": "ml.c5.4xlarge",
    "vcpuNum": 16
   },
   {
    "_defaultOrder": 25,
    "_isFastLaunch": false,
    "category": "Compute optimized",
    "gpuNum": 0,
    "hideHardwareSpecs": false,
    "memoryGiB": 72,
    "name": "ml.c5.9xlarge",
    "vcpuNum": 36
   },
   {
    "_defaultOrder": 26,
    "_isFastLaunch": false,
    "category": "Compute optimized",
    "gpuNum": 0,
    "hideHardwareSpecs": false,
    "memoryGiB": 96,
    "name": "ml.c5.12xlarge",
    "vcpuNum": 48
   },
   {
    "_defaultOrder": 27,
    "_isFastLaunch": false,
    "category": "Compute optimized",
    "gpuNum": 0,
    "hideHardwareSpecs": false,
    "memoryGiB": 144,
    "name": "ml.c5.18xlarge",
    "vcpuNum": 72
   },
   {
    "_defaultOrder": 28,
    "_isFastLaunch": false,
    "category": "Compute optimized",
    "gpuNum": 0,
    "hideHardwareSpecs": false,
    "memoryGiB": 192,
    "name": "ml.c5.24xlarge",
    "vcpuNum": 96
   },
   {
    "_defaultOrder": 29,
    "_isFastLaunch": true,
    "category": "Accelerated computing",
    "gpuNum": 1,
    "hideHardwareSpecs": false,
    "memoryGiB": 16,
    "name": "ml.g4dn.xlarge",
    "vcpuNum": 4
   },
   {
    "_defaultOrder": 30,
    "_isFastLaunch": false,
    "category": "Accelerated computing",
    "gpuNum": 1,
    "hideHardwareSpecs": false,
    "memoryGiB": 32,
    "name": "ml.g4dn.2xlarge",
    "vcpuNum": 8
   },
   {
    "_defaultOrder": 31,
    "_isFastLaunch": false,
    "category": "Accelerated computing",
    "gpuNum": 1,
    "hideHardwareSpecs": false,
    "memoryGiB": 64,
    "name": "ml.g4dn.4xlarge",
    "vcpuNum": 16
   },
   {
    "_defaultOrder": 32,
    "_isFastLaunch": false,
    "category": "Accelerated computing",
    "gpuNum": 1,
    "hideHardwareSpecs": false,
    "memoryGiB": 128,
    "name": "ml.g4dn.8xlarge",
    "vcpuNum": 32
   },
   {
    "_defaultOrder": 33,
    "_isFastLaunch": false,
    "category": "Accelerated computing",
    "gpuNum": 4,
    "hideHardwareSpecs": false,
    "memoryGiB": 192,
    "name": "ml.g4dn.12xlarge",
    "vcpuNum": 48
   },
   {
    "_defaultOrder": 34,
    "_isFastLaunch": false,
    "category": "Accelerated computing",
    "gpuNum": 1,
    "hideHardwareSpecs": false,
    "memoryGiB": 256,
    "name": "ml.g4dn.16xlarge",
    "vcpuNum": 64
   },
   {
    "_defaultOrder": 35,
    "_isFastLaunch": false,
    "category": "Accelerated computing",
    "gpuNum": 1,
    "hideHardwareSpecs": false,
    "memoryGiB": 61,
    "name": "ml.p3.2xlarge",
    "vcpuNum": 8
   },
   {
    "_defaultOrder": 36,
    "_isFastLaunch": false,
    "category": "Accelerated computing",
    "gpuNum": 4,
    "hideHardwareSpecs": false,
    "memoryGiB": 244,
    "name": "ml.p3.8xlarge",
    "vcpuNum": 32
   },
   {
    "_defaultOrder": 37,
    "_isFastLaunch": false,
    "category": "Accelerated computing",
    "gpuNum": 8,
    "hideHardwareSpecs": false,
    "memoryGiB": 488,
    "name": "ml.p3.16xlarge",
    "vcpuNum": 64
   },
   {
    "_defaultOrder": 38,
    "_isFastLaunch": false,
    "category": "Accelerated computing",
    "gpuNum": 8,
    "hideHardwareSpecs": false,
    "memoryGiB": 768,
    "name": "ml.p3dn.24xlarge",
    "vcpuNum": 96
   },
   {
    "_defaultOrder": 39,
    "_isFastLaunch": false,
    "category": "Memory Optimized",
    "gpuNum": 0,
    "hideHardwareSpecs": false,
    "memoryGiB": 16,
    "name": "ml.r5.large",
    "vcpuNum": 2
   },
   {
    "_defaultOrder": 40,
    "_isFastLaunch": false,
    "category": "Memory Optimized",
    "gpuNum": 0,
    "hideHardwareSpecs": false,
    "memoryGiB": 32,
    "name": "ml.r5.xlarge",
    "vcpuNum": 4
   },
   {
    "_defaultOrder": 41,
    "_isFastLaunch": false,
    "category": "Memory Optimized",
    "gpuNum": 0,
    "hideHardwareSpecs": false,
    "memoryGiB": 64,
    "name": "ml.r5.2xlarge",
    "vcpuNum": 8
   },
   {
    "_defaultOrder": 42,
    "_isFastLaunch": false,
    "category": "Memory Optimized",
    "gpuNum": 0,
    "hideHardwareSpecs": false,
    "memoryGiB": 128,
    "name": "ml.r5.4xlarge",
    "vcpuNum": 16
   },
   {
    "_defaultOrder": 43,
    "_isFastLaunch": false,
    "category": "Memory Optimized",
    "gpuNum": 0,
    "hideHardwareSpecs": false,
    "memoryGiB": 256,
    "name": "ml.r5.8xlarge",
    "vcpuNum": 32
   },
   {
    "_defaultOrder": 44,
    "_isFastLaunch": false,
    "category": "Memory Optimized",
    "gpuNum": 0,
    "hideHardwareSpecs": false,
    "memoryGiB": 384,
    "name": "ml.r5.12xlarge",
    "vcpuNum": 48
   },
   {
    "_defaultOrder": 45,
    "_isFastLaunch": false,
    "category": "Memory Optimized",
    "gpuNum": 0,
    "hideHardwareSpecs": false,
    "memoryGiB": 512,
    "name": "ml.r5.16xlarge",
    "vcpuNum": 64
   },
   {
    "_defaultOrder": 46,
    "_isFastLaunch": false,
    "category": "Memory Optimized",
    "gpuNum": 0,
    "hideHardwareSpecs": false,
    "memoryGiB": 768,
    "name": "ml.r5.24xlarge",
    "vcpuNum": 96
   },
   {
    "_defaultOrder": 47,
    "_isFastLaunch": false,
    "category": "Accelerated computing",
    "gpuNum": 1,
    "hideHardwareSpecs": false,
    "memoryGiB": 16,
    "name": "ml.g5.xlarge",
    "vcpuNum": 4
   },
   {
    "_defaultOrder": 48,
    "_isFastLaunch": false,
    "category": "Accelerated computing",
    "gpuNum": 1,
    "hideHardwareSpecs": false,
    "memoryGiB": 32,
    "name": "ml.g5.2xlarge",
    "vcpuNum": 8
   },
   {
    "_defaultOrder": 49,
    "_isFastLaunch": false,
    "category": "Accelerated computing",
    "gpuNum": 1,
    "hideHardwareSpecs": false,
    "memoryGiB": 64,
    "name": "ml.g5.4xlarge",
    "vcpuNum": 16
   },
   {
    "_defaultOrder": 50,
    "_isFastLaunch": false,
    "category": "Accelerated computing",
    "gpuNum": 1,
    "hideHardwareSpecs": false,
    "memoryGiB": 128,
    "name": "ml.g5.8xlarge",
    "vcpuNum": 32
   },
   {
    "_defaultOrder": 51,
    "_isFastLaunch": false,
    "category": "Accelerated computing",
    "gpuNum": 1,
    "hideHardwareSpecs": false,
    "memoryGiB": 256,
    "name": "ml.g5.16xlarge",
    "vcpuNum": 64
   },
   {
    "_defaultOrder": 52,
    "_isFastLaunch": false,
    "category": "Accelerated computing",
    "gpuNum": 4,
    "hideHardwareSpecs": false,
    "memoryGiB": 192,
    "name": "ml.g5.12xlarge",
    "vcpuNum": 48
   },
   {
    "_defaultOrder": 53,
    "_isFastLaunch": false,
    "category": "Accelerated computing",
    "gpuNum": 4,
    "hideHardwareSpecs": false,
    "memoryGiB": 384,
    "name": "ml.g5.24xlarge",
    "vcpuNum": 96
   },
   {
    "_defaultOrder": 54,
    "_isFastLaunch": false,
    "category": "Accelerated computing",
    "gpuNum": 8,
    "hideHardwareSpecs": false,
    "memoryGiB": 768,
    "name": "ml.g5.48xlarge",
    "vcpuNum": 192
   },
   {
    "_defaultOrder": 55,
    "_isFastLaunch": false,
    "category": "Accelerated computing",
    "gpuNum": 8,
    "hideHardwareSpecs": false,
    "memoryGiB": 1152,
    "name": "ml.p4d.24xlarge",
    "vcpuNum": 96
   },
   {
    "_defaultOrder": 56,
    "_isFastLaunch": false,
    "category": "Accelerated computing",
    "gpuNum": 8,
    "hideHardwareSpecs": false,
    "memoryGiB": 1152,
    "name": "ml.p4de.24xlarge",
    "vcpuNum": 96
   },
   {
    "_defaultOrder": 57,
    "_isFastLaunch": false,
    "category": "Accelerated computing",
    "gpuNum": 0,
    "hideHardwareSpecs": false,
    "memoryGiB": 32,
    "name": "ml.trn1.2xlarge",
    "vcpuNum": 8
   },
   {
    "_defaultOrder": 58,
    "_isFastLaunch": false,
    "category": "Accelerated computing",
    "gpuNum": 0,
    "hideHardwareSpecs": false,
    "memoryGiB": 512,
    "name": "ml.trn1.32xlarge",
    "vcpuNum": 128
   },
   {
    "_defaultOrder": 59,
    "_isFastLaunch": false,
    "category": "Accelerated computing",
    "gpuNum": 0,
    "hideHardwareSpecs": false,
    "memoryGiB": 512,
    "name": "ml.trn1n.32xlarge",
    "vcpuNum": 128
   }
  ],
  "kernelspec": {
   "display_name": "PySpark (SparkMagic)",
   "language": "python",
   "name": "pysparkkernel__SAGEMAKER_INTERNAL__arn:aws:sagemaker:us-east-1:081325390199:image/sagemaker-sparkmagic"
  },
  "language_info": {
   "codemirror_mode": {
    "name": "python",
    "version": 3
   },
   "file_extension": ".py",
   "mimetype": "text/x-python",
   "name": "pyspark",
   "pygments_lexer": "python3"
  }
 },
 "nbformat": 4,
 "nbformat_minor": 5
}
